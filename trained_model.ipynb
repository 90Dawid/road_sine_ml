{
  "nbformat": 4,
  "nbformat_minor": 0,
  "metadata": {
    "colab": {
      "name": "Untitled2.ipynb",
      "provenance": [],
      "collapsed_sections": [],
      "mount_file_id": "1lSVvOPGM77ycL8ZHlf8UEQHCGvJlW_y8",
      "authorship_tag": "ABX9TyPRHfLbipvzryRNVpQ9hBsr"
    },
    "kernelspec": {
      "name": "python3",
      "display_name": "Python 3"
    },
    "accelerator": "GPU"
  },
  "cells": [
    {
      "cell_type": "code",
      "metadata": {
        "id": "_nzZdWGasscz",
        "colab_type": "code",
        "colab": {
          "base_uri": "https://localhost:8080/",
          "height": 51
        },
        "outputId": "d4a9227a-9a4e-4c03-d8e0-c4324c7d2b85"
      },
      "source": [
        "import pandas as pd\n",
        "import numpy as np\n",
        "import os\n",
        "import datetime\n",
        "import tensorflow as tf\n",
        "from tensorflow.keras.models import Sequential\n",
        "from tensorflow.keras.layers import Conv2D, MaxPool2D, Dense, Flatten, Dropout\n",
        "from tensorflow.keras.utils import to_categorical\n",
        "import matplotlib.pyplot as plt\n",
        "from skimage import color, exposure\n",
        "from sklearn.metrics import accuracy_score\n",
        "\n",
        "%load_ext tensorboard"
      ],
      "execution_count": 34,
      "outputs": [
        {
          "output_type": "stream",
          "text": [
            "The tensorboard extension is already loaded. To reload it, use:\n",
            "  %reload_ext tensorboard\n"
          ],
          "name": "stdout"
        }
      ]
    },
    {
      "cell_type": "code",
      "metadata": {
        "id": "OsSziJnzs4ye",
        "colab_type": "code",
        "outputId": "6720d806-008f-47df-ef63-d9c3cd670539",
        "colab": {
          "base_uri": "https://localhost:8080/",
          "height": 34
        }
      },
      "source": [
        "cd '/content/drive/My Drive/Colab Notebooks/road_sign/data/road_sine_ml/data'"
      ],
      "execution_count": 17,
      "outputs": [
        {
          "output_type": "stream",
          "text": [
            "/content/drive/My Drive/Colab Notebooks/road_sign/data/road_sine_ml/data\n"
          ],
          "name": "stdout"
        }
      ]
    },
    {
      "cell_type": "code",
      "metadata": {
        "id": "g5q4MyT9s75_",
        "colab_type": "code",
        "colab": {}
      },
      "source": [
        "train = pd.read_pickle('train.p')\n",
        "test = pd.read_pickle('test.p')\n",
        "\n",
        "X_train, y_train = train['features'], train['labels']\n",
        "X_test, y_test = test['features'], test['labels']"
      ],
      "execution_count": 0,
      "outputs": []
    },
    {
      "cell_type": "code",
      "metadata": {
        "id": "ldJoWQjLtOTV",
        "colab_type": "code",
        "colab": {}
      },
      "source": [
        "if y_train.ndim == 1:\n",
        "  y_train = to_categorical(y_train)\n",
        "\n",
        "if y_test.ndim == 1:\n",
        "  y_test = to_categorical(y_test)"
      ],
      "execution_count": 0,
      "outputs": []
    },
    {
      "cell_type": "code",
      "metadata": {
        "id": "KMOdfchQtvpQ",
        "colab_type": "code",
        "colab": {}
      },
      "source": [
        "input_shape = X_train.shape[1:]\n",
        "num_classes = y_train.shape[1]"
      ],
      "execution_count": 0,
      "outputs": []
    },
    {
      "cell_type": "code",
      "metadata": {
        "id": "Cf4CyF-4txzr",
        "colab_type": "code",
        "outputId": "0c1cb581-f42d-45c4-a277-3ed8456aa2fd",
        "colab": {
          "base_uri": "https://localhost:8080/",
          "height": 51
        }
      },
      "source": [
        "model = Sequential([\n",
        "                    Conv2D(\n",
        "                        filters=64,\n",
        "                        kernel_size=(3, 3),\n",
        "                        activation='relu',\n",
        "                        input_shape=input_shape),\n",
        "                    \n",
        "                    Flatten(),\n",
        "\n",
        "                    Dense(num_classes, activation='softmax')\n",
        "\n",
        "])\n",
        "\n",
        "model.compile(loss='categorical_crossentropy', optimizer='Adam', metrics=['accuracy'])\n",
        "model.fit(X_train, y_train)"
      ],
      "execution_count": 21,
      "outputs": [
        {
          "output_type": "stream",
          "text": [
            "1088/1088 [==============================] - 8s 7ms/step - loss: 9.6354 - accuracy: 0.8015\n"
          ],
          "name": "stdout"
        },
        {
          "output_type": "execute_result",
          "data": {
            "text/plain": [
              "<tensorflow.python.keras.callbacks.History at 0x7fe86ea18b38>"
            ]
          },
          "metadata": {
            "tags": []
          },
          "execution_count": 21
        }
      ]
    },
    {
      "cell_type": "code",
      "metadata": {
        "id": "QRO73INft0JW",
        "colab_type": "code",
        "colab": {}
      },
      "source": [
        "def gen_cnn_vl(input_shape, num_classes):\n",
        "  return Sequential([\n",
        "                    Conv2D(\n",
        "                        filters=64,\n",
        "                        kernel_size=(3, 3),\n",
        "                        activation='relu',\n",
        "                        input_shape=input_shape),\n",
        "                    \n",
        "                    Flatten(),\n",
        "\n",
        "                    Dense(num_classes, activation='softmax')\n",
        "\n",
        "  ])\n",
        "\n",
        "def train_model(model, X_train, y_train, params_fit={}):\n",
        "  model.compile(loss='categorical_crossentropy', optimizer='Adam', metrics=['accuracy'])\n",
        "\n",
        "  logdir= os.path.join(\"logs\", datetime.datetime.now().strftime(\"%Ym%d-%H%M%S\"))\n",
        "  tensorboard_callback = tf.keras.callbacks.TensorBoard(logdir, histogram_freq=1)\n",
        "  \n",
        "  model.fit(\n",
        "      X_train,\n",
        "      y_train,\n",
        "      batch_size=params_fit.get('batch_size', 128),\n",
        "      epochs=params_fit.get('epchos', 5),\n",
        "      verbose=params_fit.get('verbose',1),\n",
        "      validation_data=params_fit.get('validation_data', (X_train, y_train)),\n",
        "      callbacks= [tensorboard_callback])\n",
        "  \n",
        "  return model"
      ],
      "execution_count": 0,
      "outputs": []
    },
    {
      "cell_type": "code",
      "metadata": {
        "id": "pOEhbOcUt485",
        "colab_type": "code",
        "outputId": "6439ba76-2e9c-4713-f1b8-22ce2a0de71d",
        "colab": {
          "base_uri": "https://localhost:8080/",
          "height": 207
        }
      },
      "source": [
        "model = gen_cnn_vl(input_shape, num_classes)\n",
        "model_trained = train_model(model, X_train, y_train)"
      ],
      "execution_count": 23,
      "outputs": [
        {
          "output_type": "stream",
          "text": [
            "Epoch 1/5\n",
            "272/272 [==============================] - 6s 24ms/step - loss: 31.9622 - accuracy: 0.7442 - val_loss: 0.2681 - val_accuracy: 0.9402\n",
            "Epoch 2/5\n",
            "272/272 [==============================] - 6s 23ms/step - loss: 0.2182 - accuracy: 0.9514 - val_loss: 0.1723 - val_accuracy: 0.9645\n",
            "Epoch 3/5\n",
            "272/272 [==============================] - 6s 24ms/step - loss: 0.1317 - accuracy: 0.9701 - val_loss: 0.0852 - val_accuracy: 0.9793\n",
            "Epoch 4/5\n",
            "272/272 [==============================] - 6s 23ms/step - loss: 0.0937 - accuracy: 0.9780 - val_loss: 0.0973 - val_accuracy: 0.9820\n",
            "Epoch 5/5\n",
            "272/272 [==============================] - 6s 23ms/step - loss: 0.0939 - accuracy: 0.9784 - val_loss: 0.1045 - val_accuracy: 0.9858\n"
          ],
          "name": "stdout"
        }
      ]
    },
    {
      "cell_type": "code",
      "metadata": {
        "id": "bgNWZHnywmbb",
        "colab_type": "code",
        "colab": {}
      },
      "source": [
        "df =pd.read_csv('signnames.csv')\n",
        "labels_dict = df.to_dict()['b']"
      ],
      "execution_count": 0,
      "outputs": []
    },
    {
      "cell_type": "code",
      "metadata": {
        "id": "h7QsbZsOwTrL",
        "colab_type": "code",
        "colab": {}
      },
      "source": [
        "def predict(model_trained, X_test, y_test,scoring=accuracy_score):\n",
        "  y_test_norm = np.argmax(y_test, axis=1)\n",
        "  y_pred_prob = model_trained.predict(X_test)\n",
        "  y_pred = np.argmax(y_pred_prob, axis=1)\n",
        "\n",
        "  return scoring(y_test_norm, y_pred)"
      ],
      "execution_count": 0,
      "outputs": []
    },
    {
      "cell_type": "code",
      "metadata": {
        "id": "lH2f33D_xv_D",
        "colab_type": "code",
        "colab": {
          "base_uri": "https://localhost:8080/",
          "height": 34
        },
        "outputId": "4d15d12b-de29-4e1c-b403-978c799b2fe7"
      },
      "source": [
        "predict(model_trained, X_test, y_test)"
      ],
      "execution_count": 36,
      "outputs": [
        {
          "output_type": "execute_result",
          "data": {
            "text/plain": [
              "0.8222222222222222"
            ]
          },
          "metadata": {
            "tags": []
          },
          "execution_count": 36
        }
      ]
    },
    {
      "cell_type": "code",
      "metadata": {
        "id": "tf4hnBiC4Xt2",
        "colab_type": "code",
        "colab": {}
      },
      "source": [
        "def train_and_predict(model):\n",
        "  model_trained = train_model(model, X_train, y_train)\n",
        "  \n",
        "  return predict(model_trained, X_test, y_test)"
      ],
      "execution_count": 0,
      "outputs": []
    },
    {
      "cell_type": "code",
      "metadata": {
        "id": "7a3KpsFwyYy_",
        "colab_type": "code",
        "colab": {
          "base_uri": "https://localhost:8080/",
          "height": 224
        },
        "outputId": "f278d782-76da-438f-e0cd-48277dd70a1b"
      },
      "source": [
        "def gen_cnn_v2(input_shape, num_classes):\n",
        "  return Sequential([\n",
        "                    Conv2D(\n",
        "                        filters=32,\n",
        "                        kernel_size=(3, 3),\n",
        "                        activation='relu',\n",
        "                        input_shape=input_shape),\n",
        "                     MaxPool2D(),\n",
        "                     Dropout(0.3),\n",
        "\n",
        "                     Conv2D(\n",
        "                        filters=64,\n",
        "                        kernel_size=(3, 3),\n",
        "                        activation='relu',\n",
        "                        input_shape=input_shape),\n",
        "                     \n",
        "                     MaxPool2D(),\n",
        "                     Dropout(0.3),\n",
        "                     \n",
        "                     Flatten(),\n",
        "\n",
        "                     Dense(1024, activation='relu'),\n",
        "                     Dropout(0.3),\n",
        "                     \n",
        "                     Dense(num_classes, activation='softmax')\n",
        "\n",
        "  ])\n",
        "\n",
        "train_and_predict(gen_cnn_v2(input_shape, num_classes))"
      ],
      "execution_count": 43,
      "outputs": [
        {
          "output_type": "stream",
          "text": [
            "Epoch 1/5\n",
            "272/272 [==============================] - 7s 25ms/step - loss: 5.9992 - accuracy: 0.2701 - val_loss: 1.5201 - val_accuracy: 0.5733\n",
            "Epoch 2/5\n",
            "272/272 [==============================] - 6s 23ms/step - loss: 1.2640 - accuracy: 0.6329 - val_loss: 0.3972 - val_accuracy: 0.9156\n",
            "Epoch 3/5\n",
            "272/272 [==============================] - 6s 23ms/step - loss: 0.5688 - accuracy: 0.8324 - val_loss: 0.1687 - val_accuracy: 0.9681\n",
            "Epoch 4/5\n",
            "272/272 [==============================] - 6s 23ms/step - loss: 0.3645 - accuracy: 0.8920 - val_loss: 0.0910 - val_accuracy: 0.9851\n",
            "Epoch 5/5\n",
            "272/272 [==============================] - 6s 23ms/step - loss: 0.2740 - accuracy: 0.9183 - val_loss: 0.0481 - val_accuracy: 0.9900\n"
          ],
          "name": "stdout"
        },
        {
          "output_type": "execute_result",
          "data": {
            "text/plain": [
              "0.9294784580498866"
            ]
          },
          "metadata": {
            "tags": []
          },
          "execution_count": 43
        }
      ]
    },
    {
      "cell_type": "code",
      "metadata": {
        "id": "swNZFEtM5IkY",
        "colab_type": "code",
        "colab": {
          "base_uri": "https://localhost:8080/",
          "height": 224
        },
        "outputId": "c9d595c1-fa2a-4735-f519-7aa840aa0e86"
      },
      "source": [
        "def gen_cnn_v3(input_shape, num_classes):\n",
        "  return Sequential([\n",
        "                    Conv2D(\n",
        "                        filters=32,\n",
        "                        kernel_size=(3, 3),\n",
        "                        activation='relu',\n",
        "                        input_shape=input_shape),\n",
        "                     Conv2D(\n",
        "                        filters=32,\n",
        "                        kernel_size=(3, 3),\n",
        "                        activation='relu'),\n",
        "                     MaxPool2D(),\n",
        "                     Dropout(0.3),\n",
        "\n",
        "                     Conv2D(\n",
        "                        filters=64,\n",
        "                        kernel_size=(3, 3),\n",
        "                        activation='relu',\n",
        "                        input_shape=input_shape),\n",
        "                     Conv2D(\n",
        "                        filters=64,\n",
        "                        kernel_size=(3, 3),\n",
        "                        activation='relu'),\n",
        "                     \n",
        "                     MaxPool2D(),\n",
        "                     Dropout(0.3),\n",
        "                     \n",
        "                     Flatten(),\n",
        "\n",
        "                     Dense(1024, activation='relu'),\n",
        "                     Dropout(0.3),\n",
        "                     \n",
        "                     Dense(num_classes, activation='softmax')\n",
        "\n",
        "  ])\n",
        "\n",
        "train_and_predict(gen_cnn_v3(input_shape, num_classes))"
      ],
      "execution_count": 44,
      "outputs": [
        {
          "output_type": "stream",
          "text": [
            "Epoch 1/5\n",
            "272/272 [==============================] - 10s 38ms/step - loss: 1.8564 - accuracy: 0.5680 - val_loss: 0.4008 - val_accuracy: 0.9239\n",
            "Epoch 2/5\n",
            "272/272 [==============================] - 10s 36ms/step - loss: 0.5279 - accuracy: 0.8442 - val_loss: 0.1558 - val_accuracy: 0.9649\n",
            "Epoch 3/5\n",
            "272/272 [==============================] - 10s 36ms/step - loss: 0.3519 - accuracy: 0.8911 - val_loss: 0.1342 - val_accuracy: 0.9652\n",
            "Epoch 4/5\n",
            "272/272 [==============================] - 10s 36ms/step - loss: 0.2679 - accuracy: 0.9168 - val_loss: 0.0729 - val_accuracy: 0.9849\n",
            "Epoch 5/5\n",
            "272/272 [==============================] - 10s 36ms/step - loss: 0.2066 - accuracy: 0.9361 - val_loss: 0.0546 - val_accuracy: 0.9874\n"
          ],
          "name": "stdout"
        },
        {
          "output_type": "execute_result",
          "data": {
            "text/plain": [
              "0.9442176870748299"
            ]
          },
          "metadata": {
            "tags": []
          },
          "execution_count": 44
        }
      ]
    },
    {
      "cell_type": "code",
      "metadata": {
        "id": "9DVSGMfs5s-U",
        "colab_type": "code",
        "colab": {
          "base_uri": "https://localhost:8080/",
          "height": 224
        },
        "outputId": "b759313d-d2d3-4e4f-c2d0-c6c374692148"
      },
      "source": [
        "def gen_cnn_v4(input_shape, num_classes):\n",
        "  return Sequential([\n",
        "                    Conv2D(\n",
        "                        filters=32,\n",
        "                        kernel_size=(3, 3),\n",
        "                        activation='relu',\n",
        "                        input_shape=input_shape),\n",
        "                     Conv2D(\n",
        "                        filters=32,\n",
        "                        kernel_size=(3, 3),\n",
        "                        activation='relu'),\n",
        "                     MaxPool2D(),\n",
        "                     Dropout(0.3),\n",
        "\n",
        "                     Conv2D(\n",
        "                        filters=64,\n",
        "                        kernel_size=(3, 3),\n",
        "                        activation='relu',\n",
        "                        input_shape=input_shape,\n",
        "                        padding='same'),\n",
        "                     Conv2D(\n",
        "                        filters=64,\n",
        "                        kernel_size=(3, 3),\n",
        "                        activation='relu'),\n",
        "                     \n",
        "                     MaxPool2D(),\n",
        "                     Dropout(0.3),\n",
        "\n",
        "                     Conv2D(\n",
        "                        filters=64,\n",
        "                        kernel_size=(3, 3),\n",
        "                        activation='relu',\n",
        "                        padding='same'),\n",
        "                     Conv2D(\n",
        "                        filters=64,\n",
        "                        kernel_size=(3, 3),\n",
        "                        activation='relu'),\n",
        "                     \n",
        "                     MaxPool2D(),\n",
        "                     Dropout(0.3),\n",
        "                     \n",
        "                     Flatten(),\n",
        "\n",
        "                     Dense(1024, activation='relu'),\n",
        "                     Dropout(0.3),\n",
        "                     \n",
        "                     Dense(num_classes, activation='softmax')\n",
        "\n",
        "  ])\n",
        "\n",
        "train_and_predict(gen_cnn_v4(input_shape, num_classes))"
      ],
      "execution_count": 47,
      "outputs": [
        {
          "output_type": "stream",
          "text": [
            "Epoch 1/5\n",
            "272/272 [==============================] - 11s 42ms/step - loss: 2.7091 - accuracy: 0.2970 - val_loss: 1.0194 - val_accuracy: 0.6756\n",
            "Epoch 2/5\n",
            "272/272 [==============================] - 11s 40ms/step - loss: 0.8710 - accuracy: 0.7310 - val_loss: 0.2334 - val_accuracy: 0.9432\n",
            "Epoch 3/5\n",
            "272/272 [==============================] - 11s 40ms/step - loss: 0.4162 - accuracy: 0.8735 - val_loss: 0.0980 - val_accuracy: 0.9720\n",
            "Epoch 4/5\n",
            "272/272 [==============================] - 11s 40ms/step - loss: 0.2535 - accuracy: 0.9236 - val_loss: 0.0440 - val_accuracy: 0.9878\n",
            "Epoch 5/5\n",
            "272/272 [==============================] - 11s 40ms/step - loss: 0.1908 - accuracy: 0.9418 - val_loss: 0.0423 - val_accuracy: 0.9882\n"
          ],
          "name": "stdout"
        },
        {
          "output_type": "execute_result",
          "data": {
            "text/plain": [
              "0.9621315192743765"
            ]
          },
          "metadata": {
            "tags": []
          },
          "execution_count": 47
        }
      ]
    },
    {
      "cell_type": "code",
      "metadata": {
        "id": "Nz2fnSLp7y2M",
        "colab_type": "code",
        "colab": {
          "base_uri": "https://localhost:8080/",
          "height": 224
        },
        "outputId": "afcef7d3-07b9-43b4-b86b-212257355e77"
      },
      "source": [
        "def gen_cnn_v5(input_shape, num_classes):\n",
        "  return Sequential([\n",
        "                    Conv2D(\n",
        "                        filters=32,\n",
        "                        kernel_size=(3, 3),\n",
        "                        activation='relu',\n",
        "                        input_shape=input_shape),\n",
        "                     Conv2D(\n",
        "                        filters=32,\n",
        "                        kernel_size=(3, 3),\n",
        "                        activation='relu'),\n",
        "                     MaxPool2D(),\n",
        "                     Dropout(0.3),\n",
        "\n",
        "                     Conv2D(\n",
        "                        filters=62,\n",
        "                        kernel_size=(3, 3),\n",
        "                        activation='relu',\n",
        "                        input_shape=input_shape,\n",
        "                        padding='same'),\n",
        "                     Conv2D(\n",
        "                        filters=64,\n",
        "                        kernel_size=(3, 3),\n",
        "                        activation='relu'),\n",
        "                     \n",
        "                     MaxPool2D(),\n",
        "                     Dropout(0.3),\n",
        "\n",
        "                     Conv2D(\n",
        "                        filters=62,\n",
        "                        kernel_size=(3, 3),\n",
        "                        activation='relu',\n",
        "                        padding='same'),\n",
        "                     Conv2D(\n",
        "                        filters=62,\n",
        "                        kernel_size=(3, 3),\n",
        "                        activation='relu'),\n",
        "                     \n",
        "                     MaxPool2D(),\n",
        "                     Dropout(0.3),\n",
        "                     \n",
        "                     Flatten(),\n",
        "\n",
        "                     Dense(1024, activation='relu'),\n",
        "                     Dropout(0.3),\n",
        "\n",
        "                     Dense(1024, activation='relu'),\n",
        "                     Dropout(0.3),\n",
        "                     \n",
        "                     Dense(num_classes, activation='softmax')\n",
        "\n",
        "  ])\n",
        "\n",
        "train_and_predict(gen_cnn_v5(input_shape, num_classes))"
      ],
      "execution_count": 61,
      "outputs": [
        {
          "output_type": "stream",
          "text": [
            "Epoch 1/5\n",
            "272/272 [==============================] - 12s 44ms/step - loss: 2.5830 - accuracy: 0.2945 - val_loss: 1.2407 - val_accuracy: 0.6058\n",
            "Epoch 2/5\n",
            "272/272 [==============================] - 12s 42ms/step - loss: 0.9637 - accuracy: 0.6885 - val_loss: 0.2557 - val_accuracy: 0.9257\n",
            "Epoch 3/5\n",
            "272/272 [==============================] - 11s 42ms/step - loss: 0.4235 - accuracy: 0.8673 - val_loss: 0.1129 - val_accuracy: 0.9658\n",
            "Epoch 4/5\n",
            "272/272 [==============================] - 11s 42ms/step - loss: 0.2568 - accuracy: 0.9211 - val_loss: 0.0471 - val_accuracy: 0.9872\n",
            "Epoch 5/5\n",
            "272/272 [==============================] - 11s 42ms/step - loss: 0.1990 - accuracy: 0.9399 - val_loss: 0.0334 - val_accuracy: 0.9910\n"
          ],
          "name": "stdout"
        },
        {
          "output_type": "execute_result",
          "data": {
            "text/plain": [
              "0.9678004535147392"
            ]
          },
          "metadata": {
            "tags": []
          },
          "execution_count": 61
        }
      ]
    },
    {
      "cell_type": "code",
      "metadata": {
        "id": "j9twjWVo8VaH",
        "colab_type": "code",
        "colab": {}
      },
      "source": [
        "X_train_gray = color.rgb2gray(X_train).reshape(-1, 32, 32, 1)\n",
        "X_test_gray = color.rgb2gray(X_test).reshape(-1, 32, 32, 1)"
      ],
      "execution_count": 0,
      "outputs": []
    },
    {
      "cell_type": "code",
      "metadata": {
        "id": "wQMzesDZ_wog",
        "colab_type": "code",
        "colab": {
          "base_uri": "https://localhost:8080/",
          "height": 283
        },
        "outputId": "d317b082-baa9-441f-dc90-2dadc7b3b3f1"
      },
      "source": [
        "plt.imshow(color.rgb2gray(X_train[230]), cmap=plt.get_cmap('gray'))"
      ],
      "execution_count": 66,
      "outputs": [
        {
          "output_type": "execute_result",
          "data": {
            "text/plain": [
              "<matplotlib.image.AxesImage at 0x7fe8682bc470>"
            ]
          },
          "metadata": {
            "tags": []
          },
          "execution_count": 66
        },
        {
          "output_type": "display_data",
          "data": {
            "image/png": "[encoded data removed]",
            "text/plain": [
              "<Figure size 432x288 with 1 Axes>"
            ]
          },
          "metadata": {
            "tags": []
          }
        }
      ]
    },
    {
      "cell_type": "code",
      "metadata": {
        "id": "SLnBQA_y9Iez",
        "colab_type": "code",
        "colab": {
          "base_uri": "https://localhost:8080/",
          "height": 224
        },
        "outputId": "85ba9e56-312b-46ca-9078-c4fb4351da1d"
      },
      "source": [
        "model = gen_cnn_v5((32, 32, 1), num_classes )\n",
        "model_trained = train_model(model, X_train_gray, y_train, params_fit={})\n",
        "predict(model_trained, X_test_gray, y_test)"
      ],
      "execution_count": 67,
      "outputs": [
        {
          "output_type": "stream",
          "text": [
            "Epoch 1/5\n",
            "272/272 [==============================] - 12s 43ms/step - loss: 2.5474 - accuracy: 0.2776 - val_loss: 0.6664 - val_accuracy: 0.7804\n",
            "Epoch 2/5\n",
            "272/272 [==============================] - 11s 42ms/step - loss: 0.5340 - accuracy: 0.8257 - val_loss: 0.1225 - val_accuracy: 0.9626\n",
            "Epoch 3/5\n",
            "272/272 [==============================] - 11s 42ms/step - loss: 0.2481 - accuracy: 0.9204 - val_loss: 0.0673 - val_accuracy: 0.9797\n",
            "Epoch 4/5\n",
            "272/272 [==============================] - 12s 42ms/step - loss: 0.1537 - accuracy: 0.9518 - val_loss: 0.0340 - val_accuracy: 0.9896\n",
            "Epoch 5/5\n",
            "272/272 [==============================] - 12s 42ms/step - loss: 0.1270 - accuracy: 0.9604 - val_loss: 0.0200 - val_accuracy: 0.9945\n"
          ],
          "name": "stdout"
        },
        {
          "output_type": "execute_result",
          "data": {
            "text/plain": [
              "0.982766439909297"
            ]
          },
          "metadata": {
            "tags": []
          },
          "execution_count": 67
        }
      ]
    }
  ]
}