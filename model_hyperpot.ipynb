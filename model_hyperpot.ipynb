{
  "nbformat": 4,
  "nbformat_minor": 0,
  "metadata": {
    "colab": {
      "name": "Untitled2.ipynb",
      "provenance": [],
      "collapsed_sections": [],
      "mount_file_id": "1ciq-yqndS_XHa1dfyhoK2lXbFhVboCR2",
      "authorship_tag": "ABX9TyNfkzGqdtvZt+pdCZlRnIcd"
    },
    "kernelspec": {
      "name": "python3",
      "display_name": "Python 3"
    },
    "accelerator": "GPU"
  },
  "cells": [
    {
      "cell_type": "code",
      "metadata": {
        "id": "z9Cfo20aBxGz",
        "colab_type": "code",
        "colab": {
          "base_uri": "https://localhost:8080/",
          "height": 170
        },
        "outputId": "411027ea-c2b9-4657-ef6d-6366e5f52f0a"
      },
      "source": [
        "!pip install hyperopt"
      ],
      "execution_count": 1,
      "outputs": [
        {
          "output_type": "stream",
          "text": [
            "Requirement already satisfied: hyperopt in /usr/local/lib/python3.6/dist-packages (0.1.2)\n",
            "Requirement already satisfied: networkx in /usr/local/lib/python3.6/dist-packages (from hyperopt) (2.4)\n",
            "Requirement already satisfied: tqdm in /usr/local/lib/python3.6/dist-packages (from hyperopt) (4.38.0)\n",
            "Requirement already satisfied: numpy in /usr/local/lib/python3.6/dist-packages (from hyperopt) (1.18.2)\n",
            "Requirement already satisfied: six in /usr/local/lib/python3.6/dist-packages (from hyperopt) (1.12.0)\n",
            "Requirement already satisfied: pymongo in /usr/local/lib/python3.6/dist-packages (from hyperopt) (3.10.1)\n",
            "Requirement already satisfied: scipy in /usr/local/lib/python3.6/dist-packages (from hyperopt) (1.4.1)\n",
            "Requirement already satisfied: future in /usr/local/lib/python3.6/dist-packages (from hyperopt) (0.16.0)\n",
            "Requirement already satisfied: decorator>=4.3.0 in /usr/local/lib/python3.6/dist-packages (from networkx->hyperopt) (4.4.2)\n"
          ],
          "name": "stdout"
        }
      ]
    },
    {
      "cell_type": "code",
      "metadata": {
        "id": "IWNKfZ9yCKkz",
        "colab_type": "code",
        "colab": {
          "base_uri": "https://localhost:8080/",
          "height": 68
        },
        "outputId": "4bd4e14a-c635-4b72-a46a-e4de7024e933"
      },
      "source": [
        "import pandas as pd\n",
        "import numpy as np\n",
        "import os\n",
        "import datetime\n",
        "import tensorflow as tf\n",
        "from tensorflow.keras.models import Sequential\n",
        "from tensorflow.keras.layers import Conv2D, MaxPool2D, Dense, Flatten, Dropout\n",
        "from tensorflow.keras.utils import to_categorical\n",
        "import matplotlib.pyplot as plt\n",
        "from skimage import color, exposure\n",
        "from sklearn.metrics import accuracy_score\n",
        "from hyperopt import hp, STATUS_OK, tpe,  Trials, fmin\n",
        "\n",
        "%load_ext tensorboard"
      ],
      "execution_count": 22,
      "outputs": [
        {
          "output_type": "stream",
          "text": [
            "The tensorboard extension is already loaded. To reload it, use:\n",
            "  %reload_ext tensorboard\n",
            "ERROR! Session/line number was not unique in database. History logging moved to new session 65\n"
          ],
          "name": "stdout"
        }
      ]
    },
    {
      "cell_type": "code",
      "metadata": {
        "id": "L92o0W2uCM7o",
        "colab_type": "code",
        "colab": {
          "base_uri": "https://localhost:8080/",
          "height": 34
        },
        "outputId": "1e45a99b-d806-4ea8-b8d3-aa8f767c181d"
      },
      "source": [
        "cd '/content/drive/My Drive/Colab Notebooks/road_sign/data/road_sine_ml/data'"
      ],
      "execution_count": 6,
      "outputs": [
        {
          "output_type": "stream",
          "text": [
            "/content/drive/My Drive/Colab Notebooks/road_sign/data/road_sine_ml/data\n"
          ],
          "name": "stdout"
        }
      ]
    },
    {
      "cell_type": "code",
      "metadata": {
        "id": "GHlyxLG7Cnlu",
        "colab_type": "code",
        "colab": {}
      },
      "source": [
        "train = pd.read_pickle('train.p')\n",
        "test = pd.read_pickle('test.p')\n",
        "\n",
        "X_train, y_train = train['features'], train['labels']\n",
        "X_test, y_test = test['features'], test['labels']"
      ],
      "execution_count": 0,
      "outputs": []
    },
    {
      "cell_type": "code",
      "metadata": {
        "id": "Pf5Ir9u7Csa8",
        "colab_type": "code",
        "colab": {}
      },
      "source": [
        "if y_train.ndim == 1:\n",
        "  y_train = to_categorical(y_train)\n",
        "\n",
        "if y_test.ndim == 1:\n",
        "  y_test = to_categorical(y_test)"
      ],
      "execution_count": 0,
      "outputs": []
    },
    {
      "cell_type": "code",
      "metadata": {
        "id": "skz7-iQ-CvLC",
        "colab_type": "code",
        "colab": {}
      },
      "source": [
        "input_shape = X_train.shape[1:]\n",
        "num_classes = y_train.shape[1]"
      ],
      "execution_count": 0,
      "outputs": []
    },
    {
      "cell_type": "code",
      "metadata": {
        "id": "PT320UbFC0uq",
        "colab_type": "code",
        "colab": {}
      },
      "source": [
        "def train_model(model, X_train, y_train, params_fit={}):\n",
        "  model.compile(loss='categorical_crossentropy', optimizer='Adam', metrics=['accuracy'])\n",
        "\n",
        "  logdir= os.path.join(\"logs\", datetime.datetime.now().strftime(\"%Ym%d-%H%M%S\"))\n",
        "  tensorboard_callback = tf.keras.callbacks.TensorBoard(logdir, histogram_freq=1)\n",
        "  \n",
        "  model.fit(\n",
        "      X_train,\n",
        "      y_train,\n",
        "      batch_size=params_fit.get('batch_size', 128),\n",
        "      epochs=params_fit.get('epchos', 5),\n",
        "      verbose=params_fit.get('verbose',1),\n",
        "      validation_data=params_fit.get('validation_data', (X_train, y_train)),\n",
        "      callbacks= [tensorboard_callback])\n",
        "  \n",
        "  return model\n",
        "\n",
        "def predict(model_trained, X_test, y_test, scoring=accuracy_score):\n",
        "  y_test_norm = np.argmax(y_test, axis=1)\n",
        "  y_pred_prob = model_trained.predict(X_test)\n",
        "  y_pred = np.argmax(y_pred_prob, axis=1)\n",
        "\n",
        "  return scoring(y_test_norm, y_pred)"
      ],
      "execution_count": 0,
      "outputs": []
    },
    {
      "cell_type": "code",
      "metadata": {
        "id": "nuW4AjKeC4n0",
        "colab_type": "code",
        "colab": {}
      },
      "source": [
        "def gen_cnn_v5(input_shape, num_classes):\n",
        "  return Sequential([\n",
        "                    Conv2D(\n",
        "                        filters=32,\n",
        "                        kernel_size=(3, 3),\n",
        "                        activation='relu',\n",
        "                        input_shape=input_shape),\n",
        "                     Conv2D(\n",
        "                        filters=32,\n",
        "                        kernel_size=(3, 3),\n",
        "                        activation='relu'),\n",
        "                     MaxPool2D(),\n",
        "                     Dropout(0.3),\n",
        "\n",
        "                     Conv2D(\n",
        "                        filters=62,\n",
        "                        kernel_size=(3, 3),\n",
        "                        activation='relu',\n",
        "                        input_shape=input_shape,\n",
        "                        padding='same'),\n",
        "                     Conv2D(\n",
        "                        filters=64,\n",
        "                        kernel_size=(3, 3),\n",
        "                        activation='relu'),\n",
        "                     \n",
        "                     MaxPool2D(),\n",
        "                     Dropout(0.3),\n",
        "\n",
        "                     Conv2D(\n",
        "                        filters=62,\n",
        "                        kernel_size=(3, 3),\n",
        "                        activation='relu',\n",
        "                        padding='same'),\n",
        "                     Conv2D(\n",
        "                        filters=62,\n",
        "                        kernel_size=(3, 3),\n",
        "                        activation='relu'),\n",
        "                     \n",
        "                     MaxPool2D(),\n",
        "                     Dropout(0.3),\n",
        "                     \n",
        "                     Flatten(),\n",
        "\n",
        "                     Dense(1024, activation='relu'),\n",
        "                     Dropout(0.3),\n",
        "\n",
        "                     Dense(1024, activation='relu'),\n",
        "                     Dropout(0.3),\n",
        "                     \n",
        "                     Dense(num_classes, activation='softmax')\n",
        "\n",
        "  ])"
      ],
      "execution_count": 0,
      "outputs": []
    },
    {
      "cell_type": "code",
      "metadata": {
        "id": "LfmGa-noC9Z7",
        "colab_type": "code",
        "colab": {
          "base_uri": "https://localhost:8080/",
          "height": 204
        },
        "outputId": "efa90e03-e303-4275-add8-9f2c394848f2"
      },
      "source": [
        "model = gen_cnn_v5(input_shape, num_classes)\n",
        "model_trained = train_model(model, X_train, y_train)\n",
        "predict(model_trained, X_test, y_test)"
      ],
      "execution_count": 12,
      "outputs": [
        {
          "output_type": "stream",
          "text": [
            "Epoch 1/5\n",
            "272/272 [==============================] - 5s 18ms/step - loss: 2.4552 - accuracy: 0.3263 - val_loss: 0.7628 - val_accuracy: 0.7800\n",
            "Epoch 2/5\n",
            "272/272 [==============================] - 4s 16ms/step - loss: 0.7268 - accuracy: 0.7765 - val_loss: 0.1656 - val_accuracy: 0.9529\n",
            "Epoch 3/5\n",
            "272/272 [==============================] - 4s 16ms/step - loss: 0.3512 - accuracy: 0.8958 - val_loss: 0.0815 - val_accuracy: 0.9771\n",
            "Epoch 4/5\n",
            "272/272 [==============================] - 4s 16ms/step - loss: 0.2377 - accuracy: 0.9293 - val_loss: 0.0443 - val_accuracy: 0.9879\n",
            "Epoch 5/5\n",
            "272/272 [==============================] - 4s 16ms/step - loss: 0.1851 - accuracy: 0.9473 - val_loss: 0.0266 - val_accuracy: 0.9926\n"
          ],
          "name": "stdout"
        },
        {
          "output_type": "execute_result",
          "data": {
            "text/plain": [
              "0.9834467120181406"
            ]
          },
          "metadata": {
            "tags": []
          },
          "execution_count": 12
        }
      ]
    },
    {
      "cell_type": "code",
      "metadata": {
        "id": "HcSXMWb9J1GO",
        "colab_type": "code",
        "colab": {}
      },
      "source": [
        "def get_model(params):\n",
        "  return Sequential([\n",
        "                    Conv2D(\n",
        "                        filters=32,\n",
        "                        kernel_size=(3, 3),\n",
        "                        activation='relu',\n",
        "                        input_shape=input_shape),\n",
        "                     Conv2D(\n",
        "                        filters=32,\n",
        "                        kernel_size=(3, 3),\n",
        "                        activation='relu'),\n",
        "                     MaxPool2D(),\n",
        "                     Dropout(params['dropout_cnn_block_one']),\n",
        "\n",
        "                     Conv2D(\n",
        "                        filters=62,\n",
        "                        kernel_size=(3, 3),\n",
        "                        activation='relu',\n",
        "                        input_shape=input_shape,\n",
        "                        padding='same'),\n",
        "                     Conv2D(\n",
        "                        filters=62,\n",
        "                        kernel_size=(3, 3),\n",
        "                        activation='relu'),\n",
        "                     \n",
        "                     MaxPool2D(),\n",
        "                     Dropout(params['dropout_cnn_block_two']),\n",
        "\n",
        "                     Conv2D(\n",
        "                        filters=128,\n",
        "                        kernel_size=(3, 3),\n",
        "                        activation='relu',\n",
        "                        padding='same'),\n",
        "                     Conv2D(\n",
        "                        filters=128,\n",
        "                        kernel_size=(3, 3),\n",
        "                        activation='relu'),\n",
        "                     \n",
        "                     MaxPool2D(),\n",
        "                     Dropout(params['dropout_cnn_block_three']),\n",
        "                     \n",
        "                     Flatten(),\n",
        "\n",
        "                     Dense(1024, activation='relu'),\n",
        "                     Dropout(params['dropout_dense_block_one']),\n",
        "\n",
        "                     Dense(1024, activation='relu'),\n",
        "                     Dropout(params['dropout_dense_block_two']),\n",
        "                     \n",
        "                     Dense(num_classes, activation='softmax')\n",
        "\n",
        "  ])"
      ],
      "execution_count": 0,
      "outputs": []
    },
    {
      "cell_type": "code",
      "metadata": {
        "id": "8ejdXRsMEz2E",
        "colab_type": "code",
        "colab": {
          "base_uri": "https://localhost:8080/",
          "height": 51
        },
        "outputId": "f65942fe-e56f-466c-d58b-61002476e100"
      },
      "source": [
        "model_trained.evaluate(X_test, y_test)"
      ],
      "execution_count": 17,
      "outputs": [
        {
          "output_type": "stream",
          "text": [
            "138/138 [==============================] - 0s 3ms/step - loss: 0.0799 - accuracy: 0.9834\n"
          ],
          "name": "stdout"
        },
        {
          "output_type": "execute_result",
          "data": {
            "text/plain": [
              "[0.07986006140708923, 0.9834467172622681]"
            ]
          },
          "metadata": {
            "tags": []
          },
          "execution_count": 17
        }
      ]
    },
    {
      "cell_type": "code",
      "metadata": {
        "id": "r-B6oJHUErJG",
        "colab_type": "code",
        "colab": {}
      },
      "source": [
        "def func_obj(params):\n",
        "  model = get_model(params)\n",
        "  model.compile(loss='categorical_crossentropy', optimizer='Adam', metrics=['accuracy'])\n",
        "\n",
        "  model.fit(\n",
        "      X_train,\n",
        "      y_train,\n",
        "      batch_size= 128, #int(params.get('batch_size', 128)),\n",
        "      epochs=5,\n",
        "      verbose=0\n",
        "  )\n",
        "\n",
        "  score = model.evaluate(X_test, y_test, verbose=0)\n",
        "  accuracy = score[1]\n",
        "  print(params, 'accuracy={}'.format(accuracy))\n",
        "  \n",
        "  return {'loss': -accuracy, 'status': STATUS_OK, 'model': model}"
      ],
      "execution_count": 0,
      "outputs": []
    },
    {
      "cell_type": "code",
      "metadata": {
        "id": "nit_q_ISEzF3",
        "colab_type": "code",
        "colab": {
          "base_uri": "https://localhost:8080/",
          "height": 1000
        },
        "outputId": "463a8ff1-4a4e-4b96-8aaa-b440e5db68cb"
      },
      "source": [
        "space = {\n",
        "    'batch_size': hp.quniform('batch_size', 50, 200, 20),\n",
        "    'dropout_cnn_block_one': hp.uniform('dropout_cnn_block_one', 0.3, 0.6),\n",
        "    'dropout_cnn_block_two': hp.uniform('dropout_cnn_block_two', 0.3, 0.6),\n",
        "    'dropout_cnn_block_three': hp.uniform('dropout_cnn_block_three', 0.3, 0.6),\n",
        "\n",
        "    'dropout_dense_block_one': hp.uniform('dropout_dense_block_one', 0.3, 0.6),\n",
        "    'dropout_dense_block_two': hp.uniform('dropout_dense_block_two', 0.3, 0.6),\n",
        "}\n",
        "\n",
        "best = fmin(\n",
        "    func_obj,\n",
        "    space,\n",
        "    tpe.suggest,\n",
        "    30,\n",
        "    Trials()\n",
        ")"
      ],
      "execution_count": 51,
      "outputs": [
        {
          "output_type": "stream",
          "text": [
            "{'batch_size': 160.0, 'dropout_cnn_block_one': 0.5206591526455211, 'dropout_cnn_block_three': 0.4524266287408073, 'dropout_cnn_block_two': 0.34853447365060797, 'dropout_dense_block_one': 0.5549758524090633, 'dropout_dense_block_two': 0.4445991415224857}\n",
            "accuracy=0.9256235957145691\n",
            "{'batch_size': 120.0, 'dropout_cnn_block_one': 0.3965681018633337, 'dropout_cnn_block_three': 0.5074192277850266, 'dropout_cnn_block_two': 0.4821427186215046, 'dropout_dense_block_one': 0.46061734122587045, 'dropout_dense_block_two': 0.47356612382842334}\n",
            "accuracy=0.9052154421806335\n",
            "{'batch_size': 160.0, 'dropout_cnn_block_one': 0.5588374032499195, 'dropout_cnn_block_three': 0.5577388406647106, 'dropout_cnn_block_two': 0.5060235792430364, 'dropout_dense_block_one': 0.44079549219378905, 'dropout_dense_block_two': 0.37243929478262117}\n",
            "accuracy=0.7319728136062622\n",
            "{'batch_size': 80.0, 'dropout_cnn_block_one': 0.35580120645483765, 'dropout_cnn_block_three': 0.5019866346682017, 'dropout_cnn_block_two': 0.5369275608971342, 'dropout_dense_block_one': 0.30713067588708143, 'dropout_dense_block_two': 0.5104068978455456}\n",
            "accuracy=0.9294784665107727\n",
            "{'batch_size': 80.0, 'dropout_cnn_block_one': 0.5015288824036066, 'dropout_cnn_block_three': 0.5981488049744677, 'dropout_cnn_block_two': 0.5863553701136436, 'dropout_dense_block_one': 0.5841561363480838, 'dropout_dense_block_two': 0.48960807745843404}\n",
            "accuracy=0.525170087814331\n",
            "{'batch_size': 120.0, 'dropout_cnn_block_one': 0.46750569244404483, 'dropout_cnn_block_three': 0.35500104493374834, 'dropout_cnn_block_two': 0.3300601902829359, 'dropout_dense_block_one': 0.3460909577245251, 'dropout_dense_block_two': 0.3770648604548746}\n",
            "accuracy=0.9612244963645935\n",
            "{'batch_size': 100.0, 'dropout_cnn_block_one': 0.5017343015023041, 'dropout_cnn_block_three': 0.40387923300305895, 'dropout_cnn_block_two': 0.48340807488569393, 'dropout_dense_block_one': 0.491467573171374, 'dropout_dense_block_two': 0.57901593005223}\n",
            "accuracy=0.8512471914291382\n",
            "{'batch_size': 200.0, 'dropout_cnn_block_one': 0.3845763865218924, 'dropout_cnn_block_three': 0.5666339292758439, 'dropout_cnn_block_two': 0.33592325254369326, 'dropout_dense_block_one': 0.33358176978424503, 'dropout_dense_block_two': 0.3765640183479645}\n",
            "accuracy=0.9174603223800659\n",
            "{'batch_size': 100.0, 'dropout_cnn_block_one': 0.5368441949020826, 'dropout_cnn_block_three': 0.34767981766504374, 'dropout_cnn_block_two': 0.46361277468164086, 'dropout_dense_block_one': 0.5607196649213317, 'dropout_dense_block_two': 0.42176188657809355}\n",
            "accuracy=0.8875283598899841\n",
            "{'batch_size': 180.0, 'dropout_cnn_block_one': 0.40318910874831315, 'dropout_cnn_block_three': 0.473140797627441, 'dropout_cnn_block_two': 0.4351187329194207, 'dropout_dense_block_one': 0.3793537582649944, 'dropout_dense_block_two': 0.3077592082249197}\n",
            "accuracy=0.9594104290008545\n",
            "{'batch_size': 80.0, 'dropout_cnn_block_one': 0.4422129611253829, 'dropout_cnn_block_three': 0.5238303246529806, 'dropout_cnn_block_two': 0.5194186895035816, 'dropout_dense_block_one': 0.41797419757827664, 'dropout_dense_block_two': 0.33788796528619036}\n",
            "accuracy=0.9002267718315125\n",
            "{'batch_size': 60.0, 'dropout_cnn_block_one': 0.3250685565333188, 'dropout_cnn_block_three': 0.598454411872253, 'dropout_cnn_block_two': 0.5031857038516037, 'dropout_dense_block_one': 0.37971880424181903, 'dropout_dense_block_two': 0.4151639198283149}\n",
            "accuracy=0.8342403769493103\n",
            "{'batch_size': 80.0, 'dropout_cnn_block_one': 0.37342320987686833, 'dropout_cnn_block_three': 0.5210444884302963, 'dropout_cnn_block_two': 0.5889387926615354, 'dropout_dense_block_one': 0.3602365166791197, 'dropout_dense_block_two': 0.5325111698977734}\n",
            "accuracy=0.8809523582458496\n",
            "{'batch_size': 60.0, 'dropout_cnn_block_one': 0.47654464609578806, 'dropout_cnn_block_three': 0.3145975765758731, 'dropout_cnn_block_two': 0.35848020494376864, 'dropout_dense_block_one': 0.4242082826645842, 'dropout_dense_block_two': 0.5388662451134967}\n",
            "accuracy=0.9537414908409119\n",
            "{'batch_size': 100.0, 'dropout_cnn_block_one': 0.5907005147862595, 'dropout_cnn_block_three': 0.44318824909590276, 'dropout_cnn_block_two': 0.502810447577394, 'dropout_dense_block_one': 0.3066623559761397, 'dropout_dense_block_two': 0.4460566319829071}\n",
            "accuracy=0.7117913961410522\n",
            "{'batch_size': 180.0, 'dropout_cnn_block_one': 0.5800336185488786, 'dropout_cnn_block_three': 0.31595236208950794, 'dropout_cnn_block_two': 0.3565894384692068, 'dropout_dense_block_one': 0.425651357739671, 'dropout_dense_block_two': 0.312540249679152}\n",
            "accuracy=0.9503401517868042\n",
            "{'batch_size': 60.0, 'dropout_cnn_block_one': 0.5361237173710521, 'dropout_cnn_block_three': 0.3455878096248807, 'dropout_cnn_block_two': 0.5502373047766466, 'dropout_dense_block_one': 0.3414556333548646, 'dropout_dense_block_two': 0.5000603404094044}\n",
            "accuracy=0.8303855061531067\n",
            "{'batch_size': 100.0, 'dropout_cnn_block_one': 0.5910302805335992, 'dropout_cnn_block_three': 0.46016640105385964, 'dropout_cnn_block_two': 0.5784716099679335, 'dropout_dense_block_one': 0.5157003922087782, 'dropout_dense_block_two': 0.45692862725927336}\n",
            "accuracy=0.7730158567428589\n",
            "{'batch_size': 60.0, 'dropout_cnn_block_one': 0.4678507279121419, 'dropout_cnn_block_three': 0.5203984593430361, 'dropout_cnn_block_two': 0.5640303277697709, 'dropout_dense_block_one': 0.45233841473367564, 'dropout_dense_block_two': 0.46074772136396347}\n",
            "accuracy=0.7310657501220703\n",
            "{'batch_size': 100.0, 'dropout_cnn_block_one': 0.5004531512212097, 'dropout_cnn_block_three': 0.3267466888454784, 'dropout_cnn_block_two': 0.5054916369360389, 'dropout_dense_block_one': 0.32087850934296264, 'dropout_dense_block_two': 0.4068683921678822}\n",
            "accuracy=0.9160997867584229\n",
            "{'batch_size': 140.0, 'dropout_cnn_block_one': 0.42014257703199387, 'dropout_cnn_block_three': 0.39125315689624507, 'dropout_cnn_block_two': 0.3998256062857938, 'dropout_dense_block_one': 0.39503706314263476, 'dropout_dense_block_two': 0.3014406741295318}\n",
            "accuracy=0.9555555582046509\n",
            "{'batch_size': 140.0, 'dropout_cnn_block_one': 0.4238551839317944, 'dropout_cnn_block_three': 0.4006967846694262, 'dropout_cnn_block_two': 0.41628323624776103, 'dropout_dense_block_one': 0.3758690139303797, 'dropout_dense_block_two': 0.3407301727967927}\n",
            "accuracy=0.9417233467102051\n",
            "{'batch_size': 200.0, 'dropout_cnn_block_one': 0.3193700592566203, 'dropout_cnn_block_three': 0.4823530902132326, 'dropout_cnn_block_two': 0.300601248680543, 'dropout_dense_block_one': 0.3473121661367874, 'dropout_dense_block_two': 0.3603177696197346}\n",
            "accuracy=0.9514739513397217\n",
            "{'batch_size': 180.0, 'dropout_cnn_block_one': 0.34721955011266414, 'dropout_cnn_block_three': 0.43103030357608885, 'dropout_cnn_block_two': 0.4265003826544255, 'dropout_dense_block_one': 0.38713616868053286, 'dropout_dense_block_two': 0.32387916025225827}\n",
            "accuracy=0.915192723274231\n",
            "{'batch_size': 120.0, 'dropout_cnn_block_one': 0.4539095275838126, 'dropout_cnn_block_three': 0.3673210972249641, 'dropout_cnn_block_two': 0.30831886656707974, 'dropout_dense_block_one': 0.36093389247988705, 'dropout_dense_block_two': 0.38845825397019884}\n",
            "accuracy=0.958730161190033\n",
            "{'batch_size': 140.0, 'dropout_cnn_block_one': 0.41675901825189116, 'dropout_cnn_block_three': 0.4277035986603286, 'dropout_cnn_block_two': 0.3948758731245235, 'dropout_dense_block_one': 0.4030867041268545, 'dropout_dense_block_two': 0.3008036749954173}\n",
            "accuracy=0.8827664256095886\n",
            "{'batch_size': 160.0, 'dropout_cnn_block_one': 0.4025230583525246, 'dropout_cnn_block_three': 0.47722181193274993, 'dropout_cnn_block_two': 0.3830939506307471, 'dropout_dense_block_one': 0.4725515980435183, 'dropout_dense_block_two': 0.3510384838132875}\n",
            "accuracy=0.884353756904602\n",
            "{'batch_size': 180.0, 'dropout_cnn_block_one': 0.4771941443886036, 'dropout_cnn_block_three': 0.3856912343086738, 'dropout_cnn_block_two': 0.4425268801809262, 'dropout_dense_block_one': 0.32053562419941833, 'dropout_dense_block_two': 0.3947663745339894}\n",
            "accuracy=0.9061224460601807\n",
            "{'batch_size': 120.0, 'dropout_cnn_block_one': 0.4386774077977084, 'dropout_cnn_block_three': 0.4180711055571764, 'dropout_cnn_block_two': 0.32654255055529097, 'dropout_dense_block_one': 0.35694259959720154, 'dropout_dense_block_two': 0.4320885173707609}\n",
            "accuracy=0.96417236328125\n",
            "{'batch_size': 120.0, 'dropout_cnn_block_one': 0.4430274721639013, 'dropout_cnn_block_three': 0.3702079870706801, 'dropout_cnn_block_two': 0.32624155344419686, 'dropout_dense_block_one': 0.30423352420970423, 'dropout_dense_block_two': 0.4365874712911772}\n",
            "accuracy=0.9571428298950195\n",
            "100%|██████████| 30/30 [07:15<00:00, 14.51s/it, best loss: -0.96417236328125]\n"
          ],
          "name": "stdout"
        }
      ]
    }
  ]
}